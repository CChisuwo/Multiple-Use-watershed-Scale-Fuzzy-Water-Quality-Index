{
 "cells": [
  {
   "cell_type": "markdown",
   "metadata": {},
   "source": [
    "# Introduction\n",
    "This notebook illustrates the development of a watershed scale water quality index using a fuzzy inference system. To achieve this PCA will be used for parameter selection (and dimensionality reduction). The selected parameters shall then be grouped into four (4) uses namely: Drinking, Aquaculture, irrigation and natural aquatic ecosystems. Relevant parameters in relation to the specific use fuzzy water quality index will be used as the antecedents (inputs) and their aggregated consequents(specific use fuzzy water quality index)  as inputs to the overall watershed scale fuzzy water quality index. The membership function development was done using the delphi technique where annonymized responses were solicited from multiple experts and employed to define the membership degree ranges of the triangular membership functions. Centroid defuzzification will be employed for the aggregation at both specific use and watershed scale index levels."
   ]
  },
  {
   "cell_type": "markdown",
   "metadata": {
    "jupyter": {
     "source_hidden": true
    }
   },
   "source": [
    "# AOI [Watershed Delineation Web-UI]\n",
    "<img src=\"img/Capture.JPG\">"
   ]
  },
  {
   "cell_type": "code",
   "execution_count": 1,
   "metadata": {},
   "outputs": [],
   "source": [
    "from __future__ import print_function\n",
    "from ipywidgets import interact, interactive, fixed, interact_manual\n",
    "import ipywidgets as widgets"
   ]
  },
  {
   "cell_type": "markdown",
   "metadata": {},
   "source": [
    "<img src=\"../img/wsfwqiframework.png\">"
   ]
  },
  {
   "cell_type": "markdown",
   "metadata": {},
   "source": [
    "## Drinking Water Use value Trends"
   ]
  },
  {
   "cell_type": "code",
   "execution_count": 3,
   "metadata": {},
   "outputs": [
    {
     "data": {
      "application/vnd.jupyter.widget-view+json": {
       "model_id": "816bc3bcd9394eed96628d98dbdef6bb",
       "version_major": 2,
       "version_minor": 0
      },
      "text/plain": [
       "interactive(children=(Dropdown(description='WaterUse', options=('Drinking', 'Irrigation', 'Aquaculture', 'Natu…"
      ]
     },
     "metadata": {},
     "output_type": "display_data"
    }
   ],
   "source": [
    "import pandas as pd\n",
    "import plotly.express as px\n",
    "data= pd.DataFrame\n",
    "data=pd.read_csv('../data/Drinking mean.csv')\n",
    "plot=pd.read_csv('../data/Drinking means.csv')\n",
    "X = data.to_numpy()\n",
    "expo = plot\n",
    "@interact\n",
    "#include wateruse type dropdown which will switch CSV files and show data for particular water use \n",
    "def show_parameter_values(WaterUse=['Drinking','Irrigation','Aquaculture','Natural Ecosystem'],\n",
    "                          #Add conditional statement on WaterUse choice to load use-specific parameters \n",
    "                          #declare use-specific parameters to asign conditional statement\n",
    "                          Parameters=['pH','NTU','EC µS/cm','Ca mg/l','NH4 mg/l',\n",
    "                                  'NO3 mg/l','Cl mg/l','K mg/l','FC (cfu/100ml)',\n",
    "                                  'Mg','Na','HCO3','SO4','TDS'],\n",
    "          \n",
    "                          x=8):\n",
    "    return px.line(expo, x=\"Sample Point\", y=Parameters, color=\"Season\", \n",
    "           title= Parameters +\" \" \"Trends\", template=\"plotly_dark\")"
   ]
  },
  {
   "cell_type": "code",
   "execution_count": 6,
   "metadata": {
    "slideshow": {
     "slide_type": "notes"
    }
   },
   "outputs": [
    {
     "data": {
      "text/html": [
       "<div>\n",
       "<style scoped>\n",
       "    .dataframe tbody tr th:only-of-type {\n",
       "        vertical-align: middle;\n",
       "    }\n",
       "\n",
       "    .dataframe tbody tr th {\n",
       "        vertical-align: top;\n",
       "    }\n",
       "\n",
       "    .dataframe thead th {\n",
       "        text-align: right;\n",
       "    }\n",
       "</style>\n",
       "<table border=\"1\" class=\"dataframe\">\n",
       "  <thead>\n",
       "    <tr style=\"text-align: right;\">\n",
       "      <th></th>\n",
       "      <th>pH</th>\n",
       "      <th>EC µS/cm</th>\n",
       "      <th>NTU</th>\n",
       "      <th>Ca mg/l</th>\n",
       "      <th>NH4 mg/l</th>\n",
       "      <th>NO3 mg/l</th>\n",
       "      <th>Cl mg/l</th>\n",
       "      <th>K mg/l</th>\n",
       "      <th>FC (cfu/100ml)</th>\n",
       "      <th>Mg</th>\n",
       "      <th>Na</th>\n",
       "      <th>HCO3</th>\n",
       "      <th>SO4</th>\n",
       "      <th>TDS</th>\n",
       "      <th>CO3</th>\n",
       "    </tr>\n",
       "  </thead>\n",
       "  <tbody>\n",
       "    <tr>\n",
       "      <th>0</th>\n",
       "      <td>6.76</td>\n",
       "      <td>47.67</td>\n",
       "      <td>18.80</td>\n",
       "      <td>0.87</td>\n",
       "      <td>1.00</td>\n",
       "      <td>0.10</td>\n",
       "      <td>1.77</td>\n",
       "      <td>1.00</td>\n",
       "      <td>43.00</td>\n",
       "      <td>19.90</td>\n",
       "      <td>5.33</td>\n",
       "      <td>54.340000</td>\n",
       "      <td>12.100000</td>\n",
       "      <td>23.833333</td>\n",
       "      <td>0</td>\n",
       "    </tr>\n",
       "    <tr>\n",
       "      <th>1</th>\n",
       "      <td>6.41</td>\n",
       "      <td>42.33</td>\n",
       "      <td>18.83</td>\n",
       "      <td>0.77</td>\n",
       "      <td>1.00</td>\n",
       "      <td>1.00</td>\n",
       "      <td>1.53</td>\n",
       "      <td>0.67</td>\n",
       "      <td>22.00</td>\n",
       "      <td>18.07</td>\n",
       "      <td>5.33</td>\n",
       "      <td>52.030000</td>\n",
       "      <td>10.500000</td>\n",
       "      <td>21.166667</td>\n",
       "      <td>0</td>\n",
       "    </tr>\n",
       "    <tr>\n",
       "      <th>2</th>\n",
       "      <td>6.74</td>\n",
       "      <td>40.33</td>\n",
       "      <td>20.23</td>\n",
       "      <td>0.70</td>\n",
       "      <td>1.00</td>\n",
       "      <td>1.00</td>\n",
       "      <td>1.53</td>\n",
       "      <td>0.00</td>\n",
       "      <td>53.00</td>\n",
       "      <td>17.53</td>\n",
       "      <td>5.00</td>\n",
       "      <td>52.524560</td>\n",
       "      <td>10.500000</td>\n",
       "      <td>20.166667</td>\n",
       "      <td>0</td>\n",
       "    </tr>\n",
       "    <tr>\n",
       "      <th>3</th>\n",
       "      <td>7.69</td>\n",
       "      <td>39.67</td>\n",
       "      <td>36.77</td>\n",
       "      <td>0.77</td>\n",
       "      <td>1.00</td>\n",
       "      <td>0.20</td>\n",
       "      <td>1.77</td>\n",
       "      <td>1.00</td>\n",
       "      <td>83.67</td>\n",
       "      <td>17.63</td>\n",
       "      <td>5.00</td>\n",
       "      <td>53.924560</td>\n",
       "      <td>12.200000</td>\n",
       "      <td>19.833333</td>\n",
       "      <td>0</td>\n",
       "    </tr>\n",
       "    <tr>\n",
       "      <th>4</th>\n",
       "      <td>7.30</td>\n",
       "      <td>40.00</td>\n",
       "      <td>19.93</td>\n",
       "      <td>3.60</td>\n",
       "      <td>0.37</td>\n",
       "      <td>0.23</td>\n",
       "      <td>2.07</td>\n",
       "      <td>1.00</td>\n",
       "      <td>23.33</td>\n",
       "      <td>20.13</td>\n",
       "      <td>4.00</td>\n",
       "      <td>55.989560</td>\n",
       "      <td>13.800000</td>\n",
       "      <td>20.000000</td>\n",
       "      <td>0</td>\n",
       "    </tr>\n",
       "    <tr>\n",
       "      <th>5</th>\n",
       "      <td>7.26</td>\n",
       "      <td>43.33</td>\n",
       "      <td>23.47</td>\n",
       "      <td>1.33</td>\n",
       "      <td>1.00</td>\n",
       "      <td>0.20</td>\n",
       "      <td>1.80</td>\n",
       "      <td>1.00</td>\n",
       "      <td>78.00</td>\n",
       "      <td>14.30</td>\n",
       "      <td>4.33</td>\n",
       "      <td>50.989560</td>\n",
       "      <td>10.800000</td>\n",
       "      <td>21.666667</td>\n",
       "      <td>0</td>\n",
       "    </tr>\n",
       "    <tr>\n",
       "      <th>6</th>\n",
       "      <td>6.97</td>\n",
       "      <td>44.67</td>\n",
       "      <td>19.77</td>\n",
       "      <td>0.00</td>\n",
       "      <td>0.90</td>\n",
       "      <td>0.30</td>\n",
       "      <td>0.57</td>\n",
       "      <td>1.00</td>\n",
       "      <td>11.67</td>\n",
       "      <td>14.87</td>\n",
       "      <td>3.00</td>\n",
       "      <td>8.764667</td>\n",
       "      <td>48.300000</td>\n",
       "      <td>22.333333</td>\n",
       "      <td>0</td>\n",
       "    </tr>\n",
       "    <tr>\n",
       "      <th>7</th>\n",
       "      <td>6.89</td>\n",
       "      <td>32.77</td>\n",
       "      <td>23.63</td>\n",
       "      <td>0.00</td>\n",
       "      <td>1.33</td>\n",
       "      <td>1.00</td>\n",
       "      <td>0.37</td>\n",
       "      <td>1.00</td>\n",
       "      <td>17.00</td>\n",
       "      <td>26.33</td>\n",
       "      <td>3.67</td>\n",
       "      <td>6.351000</td>\n",
       "      <td>40.433333</td>\n",
       "      <td>16.383333</td>\n",
       "      <td>0</td>\n",
       "    </tr>\n",
       "    <tr>\n",
       "      <th>8</th>\n",
       "      <td>6.96</td>\n",
       "      <td>34.57</td>\n",
       "      <td>20.40</td>\n",
       "      <td>0.10</td>\n",
       "      <td>1.20</td>\n",
       "      <td>1.00</td>\n",
       "      <td>0.37</td>\n",
       "      <td>1.03</td>\n",
       "      <td>0.00</td>\n",
       "      <td>21.43</td>\n",
       "      <td>2.00</td>\n",
       "      <td>7.499333</td>\n",
       "      <td>40.380000</td>\n",
       "      <td>17.283333</td>\n",
       "      <td>0</td>\n",
       "    </tr>\n",
       "    <tr>\n",
       "      <th>9</th>\n",
       "      <td>6.98</td>\n",
       "      <td>46.33</td>\n",
       "      <td>19.77</td>\n",
       "      <td>0.13</td>\n",
       "      <td>1.23</td>\n",
       "      <td>0.20</td>\n",
       "      <td>0.43</td>\n",
       "      <td>1.13</td>\n",
       "      <td>2.00</td>\n",
       "      <td>10.60</td>\n",
       "      <td>4.67</td>\n",
       "      <td>4.623000</td>\n",
       "      <td>53.666667</td>\n",
       "      <td>23.166667</td>\n",
       "      <td>0</td>\n",
       "    </tr>\n",
       "    <tr>\n",
       "      <th>10</th>\n",
       "      <td>6.76</td>\n",
       "      <td>48.33</td>\n",
       "      <td>19.83</td>\n",
       "      <td>0.17</td>\n",
       "      <td>1.10</td>\n",
       "      <td>0.17</td>\n",
       "      <td>0.30</td>\n",
       "      <td>1.40</td>\n",
       "      <td>7.00</td>\n",
       "      <td>27.97</td>\n",
       "      <td>3.00</td>\n",
       "      <td>7.674000</td>\n",
       "      <td>26.366667</td>\n",
       "      <td>24.166667</td>\n",
       "      <td>0</td>\n",
       "    </tr>\n",
       "    <tr>\n",
       "      <th>11</th>\n",
       "      <td>6.94</td>\n",
       "      <td>40.40</td>\n",
       "      <td>12.40</td>\n",
       "      <td>0.37</td>\n",
       "      <td>1.20</td>\n",
       "      <td>0.20</td>\n",
       "      <td>0.23</td>\n",
       "      <td>1.13</td>\n",
       "      <td>8.33</td>\n",
       "      <td>15.67</td>\n",
       "      <td>2.33</td>\n",
       "      <td>9.683667</td>\n",
       "      <td>42.300000</td>\n",
       "      <td>20.200000</td>\n",
       "      <td>0</td>\n",
       "    </tr>\n",
       "  </tbody>\n",
       "</table>\n",
       "</div>"
      ],
      "text/plain": [
       "      pH  EC µS/cm    NTU  Ca mg/l  NH4 mg/l  NO3 mg/l  Cl mg/l  K mg/l  \\\n",
       "0   6.76     47.67  18.80     0.87      1.00      0.10     1.77    1.00   \n",
       "1   6.41     42.33  18.83     0.77      1.00      1.00     1.53    0.67   \n",
       "2   6.74     40.33  20.23     0.70      1.00      1.00     1.53    0.00   \n",
       "3   7.69     39.67  36.77     0.77      1.00      0.20     1.77    1.00   \n",
       "4   7.30     40.00  19.93     3.60      0.37      0.23     2.07    1.00   \n",
       "5   7.26     43.33  23.47     1.33      1.00      0.20     1.80    1.00   \n",
       "6   6.97     44.67  19.77     0.00      0.90      0.30     0.57    1.00   \n",
       "7   6.89     32.77  23.63     0.00      1.33      1.00     0.37    1.00   \n",
       "8   6.96     34.57  20.40     0.10      1.20      1.00     0.37    1.03   \n",
       "9   6.98     46.33  19.77     0.13      1.23      0.20     0.43    1.13   \n",
       "10  6.76     48.33  19.83     0.17      1.10      0.17     0.30    1.40   \n",
       "11  6.94     40.40  12.40     0.37      1.20      0.20     0.23    1.13   \n",
       "\n",
       "    FC (cfu/100ml)     Mg    Na       HCO3        SO4        TDS  CO3  \n",
       "0            43.00  19.90  5.33  54.340000  12.100000  23.833333    0  \n",
       "1            22.00  18.07  5.33  52.030000  10.500000  21.166667    0  \n",
       "2            53.00  17.53  5.00  52.524560  10.500000  20.166667    0  \n",
       "3            83.67  17.63  5.00  53.924560  12.200000  19.833333    0  \n",
       "4            23.33  20.13  4.00  55.989560  13.800000  20.000000    0  \n",
       "5            78.00  14.30  4.33  50.989560  10.800000  21.666667    0  \n",
       "6            11.67  14.87  3.00   8.764667  48.300000  22.333333    0  \n",
       "7            17.00  26.33  3.67   6.351000  40.433333  16.383333    0  \n",
       "8             0.00  21.43  2.00   7.499333  40.380000  17.283333    0  \n",
       "9             2.00  10.60  4.67   4.623000  53.666667  23.166667    0  \n",
       "10            7.00  27.97  3.00   7.674000  26.366667  24.166667    0  \n",
       "11            8.33  15.67  2.33   9.683667  42.300000  20.200000    0  "
      ]
     },
     "execution_count": 6,
     "metadata": {},
     "output_type": "execute_result"
    }
   ],
   "source": [
    "data"
   ]
  },
  {
   "cell_type": "markdown",
   "metadata": {},
   "source": [
    "### Principle Component analysis for Water use parameter selection"
   ]
  },
  {
   "cell_type": "code",
   "execution_count": 5,
   "metadata": {},
   "outputs": [],
   "source": [
    "import pandas as pd \n",
    "import numpy as np\n",
    "import matplotlib.pyplot as plt\n",
    "from sklearn.decomposition import PCA\n",
    "from sklearn.preprocessing import StandardScaler\n",
    "%matplotlib inline"
   ]
  },
  {
   "cell_type": "code",
   "execution_count": 6,
   "metadata": {},
   "outputs": [],
   "source": [
    "LData=pd.read_csv('data/Drinking means.csv')"
   ]
  },
  {
   "cell_type": "code",
   "execution_count": 7,
   "metadata": {},
   "outputs": [],
   "source": [
    "pcaData=LData"
   ]
  },
  {
   "cell_type": "code",
   "execution_count": 8,
   "metadata": {},
   "outputs": [
    {
     "data": {
      "text/html": [
       "<div>\n",
       "<style scoped>\n",
       "    .dataframe tbody tr th:only-of-type {\n",
       "        vertical-align: middle;\n",
       "    }\n",
       "\n",
       "    .dataframe tbody tr th {\n",
       "        vertical-align: top;\n",
       "    }\n",
       "\n",
       "    .dataframe thead th {\n",
       "        text-align: right;\n",
       "    }\n",
       "</style>\n",
       "<table border=\"1\" class=\"dataframe\">\n",
       "  <thead>\n",
       "    <tr style=\"text-align: right;\">\n",
       "      <th></th>\n",
       "      <th>Sample Point</th>\n",
       "      <th>pH</th>\n",
       "      <th>EC µS/cm</th>\n",
       "      <th>NTU</th>\n",
       "      <th>Ca mg/l</th>\n",
       "      <th>NH4 mg/l</th>\n",
       "      <th>NO3 mg/l</th>\n",
       "      <th>Cl mg/l</th>\n",
       "      <th>K mg/l</th>\n",
       "      <th>FC (cfu/100ml)</th>\n",
       "      <th>Mg</th>\n",
       "      <th>Na</th>\n",
       "      <th>HCO3</th>\n",
       "      <th>SO4</th>\n",
       "      <th>TDS</th>\n",
       "      <th>CO3</th>\n",
       "      <th>Season</th>\n",
       "      <th>Use</th>\n",
       "    </tr>\n",
       "  </thead>\n",
       "  <tbody>\n",
       "    <tr>\n",
       "      <th>0</th>\n",
       "      <td>source</td>\n",
       "      <td>6.76</td>\n",
       "      <td>47.67</td>\n",
       "      <td>18.80</td>\n",
       "      <td>0.87</td>\n",
       "      <td>1.00</td>\n",
       "      <td>0.10</td>\n",
       "      <td>1.77</td>\n",
       "      <td>1.00</td>\n",
       "      <td>43.00</td>\n",
       "      <td>19.90</td>\n",
       "      <td>5.33</td>\n",
       "      <td>54.34000</td>\n",
       "      <td>12.1</td>\n",
       "      <td>23.833333</td>\n",
       "      <td>0.0</td>\n",
       "      <td>Wet</td>\n",
       "      <td>Drinking</td>\n",
       "    </tr>\n",
       "    <tr>\n",
       "      <th>1</th>\n",
       "      <td>channel (Tankin)</td>\n",
       "      <td>6.41</td>\n",
       "      <td>42.33</td>\n",
       "      <td>18.83</td>\n",
       "      <td>0.77</td>\n",
       "      <td>1.00</td>\n",
       "      <td>1.00</td>\n",
       "      <td>1.53</td>\n",
       "      <td>0.67</td>\n",
       "      <td>22.00</td>\n",
       "      <td>18.07</td>\n",
       "      <td>5.33</td>\n",
       "      <td>52.03000</td>\n",
       "      <td>10.5</td>\n",
       "      <td>21.166667</td>\n",
       "      <td>0.0</td>\n",
       "      <td>Wet</td>\n",
       "      <td>Drinking</td>\n",
       "    </tr>\n",
       "    <tr>\n",
       "      <th>2</th>\n",
       "      <td>Tankout</td>\n",
       "      <td>6.74</td>\n",
       "      <td>40.33</td>\n",
       "      <td>20.23</td>\n",
       "      <td>0.70</td>\n",
       "      <td>1.00</td>\n",
       "      <td>1.00</td>\n",
       "      <td>1.53</td>\n",
       "      <td>0.00</td>\n",
       "      <td>53.00</td>\n",
       "      <td>17.53</td>\n",
       "      <td>5.00</td>\n",
       "      <td>52.52456</td>\n",
       "      <td>10.5</td>\n",
       "      <td>20.166667</td>\n",
       "      <td>0.0</td>\n",
       "      <td>Wet</td>\n",
       "      <td>Drinking</td>\n",
       "    </tr>\n",
       "    <tr>\n",
       "      <th>3</th>\n",
       "      <td>hospital</td>\n",
       "      <td>7.69</td>\n",
       "      <td>39.67</td>\n",
       "      <td>36.77</td>\n",
       "      <td>0.77</td>\n",
       "      <td>1.00</td>\n",
       "      <td>0.20</td>\n",
       "      <td>1.77</td>\n",
       "      <td>1.00</td>\n",
       "      <td>83.67</td>\n",
       "      <td>17.63</td>\n",
       "      <td>5.00</td>\n",
       "      <td>53.92456</td>\n",
       "      <td>12.2</td>\n",
       "      <td>19.833333</td>\n",
       "      <td>0.0</td>\n",
       "      <td>Wet</td>\n",
       "      <td>Drinking</td>\n",
       "    </tr>\n",
       "    <tr>\n",
       "      <th>4</th>\n",
       "      <td>uniCafe</td>\n",
       "      <td>7.30</td>\n",
       "      <td>40.00</td>\n",
       "      <td>19.93</td>\n",
       "      <td>3.60</td>\n",
       "      <td>0.37</td>\n",
       "      <td>0.23</td>\n",
       "      <td>2.07</td>\n",
       "      <td>1.00</td>\n",
       "      <td>23.33</td>\n",
       "      <td>20.13</td>\n",
       "      <td>4.00</td>\n",
       "      <td>55.98956</td>\n",
       "      <td>13.8</td>\n",
       "      <td>20.000000</td>\n",
       "      <td>0.0</td>\n",
       "      <td>Wet</td>\n",
       "      <td>Irrigation</td>\n",
       "    </tr>\n",
       "  </tbody>\n",
       "</table>\n",
       "</div>"
      ],
      "text/plain": [
       "       Sample Point    pH  EC µS/cm    NTU  Ca mg/l  NH4 mg/l  NO3 mg/l  \\\n",
       "0            source  6.76     47.67  18.80     0.87      1.00      0.10   \n",
       "1  channel (Tankin)  6.41     42.33  18.83     0.77      1.00      1.00   \n",
       "2           Tankout  6.74     40.33  20.23     0.70      1.00      1.00   \n",
       "3          hospital  7.69     39.67  36.77     0.77      1.00      0.20   \n",
       "4           uniCafe  7.30     40.00  19.93     3.60      0.37      0.23   \n",
       "\n",
       "   Cl mg/l  K mg/l  FC (cfu/100ml)     Mg    Na      HCO3   SO4        TDS  \\\n",
       "0     1.77    1.00           43.00  19.90  5.33  54.34000  12.1  23.833333   \n",
       "1     1.53    0.67           22.00  18.07  5.33  52.03000  10.5  21.166667   \n",
       "2     1.53    0.00           53.00  17.53  5.00  52.52456  10.5  20.166667   \n",
       "3     1.77    1.00           83.67  17.63  5.00  53.92456  12.2  19.833333   \n",
       "4     2.07    1.00           23.33  20.13  4.00  55.98956  13.8  20.000000   \n",
       "\n",
       "   CO3 Season         Use  \n",
       "0  0.0    Wet    Drinking  \n",
       "1  0.0    Wet    Drinking  \n",
       "2  0.0    Wet    Drinking  \n",
       "3  0.0    Wet    Drinking  \n",
       "4  0.0    Wet  Irrigation  "
      ]
     },
     "execution_count": 8,
     "metadata": {},
     "output_type": "execute_result"
    }
   ],
   "source": [
    "pcaData.head()"
   ]
  },
  {
   "cell_type": "code",
   "execution_count": 9,
   "metadata": {},
   "outputs": [],
   "source": [
    "features = ['pH', 'EC µS/cm', 'NTU', 'Ca mg/l','NH4 mg/l','Cl mg/l','FC (cfu/100ml)','Mg','Na','HCO3','SO4','TDS','CO3']\n",
    "x = pcaData.loc[:, features].values"
   ]
  },
  {
   "cell_type": "code",
   "execution_count": 10,
   "metadata": {},
   "outputs": [],
   "source": [
    "y = pcaData.loc['Sample Point':,['Season']].values"
   ]
  },
  {
   "cell_type": "code",
   "execution_count": 11,
   "metadata": {},
   "outputs": [],
   "source": [
    "x = StandardScaler().fit_transform(x)"
   ]
  },
  {
   "cell_type": "code",
   "execution_count": 12,
   "metadata": {},
   "outputs": [
    {
     "data": {
      "text/html": [
       "<div>\n",
       "<style scoped>\n",
       "    .dataframe tbody tr th:only-of-type {\n",
       "        vertical-align: middle;\n",
       "    }\n",
       "\n",
       "    .dataframe tbody tr th {\n",
       "        vertical-align: top;\n",
       "    }\n",
       "\n",
       "    .dataframe thead th {\n",
       "        text-align: right;\n",
       "    }\n",
       "</style>\n",
       "<table border=\"1\" class=\"dataframe\">\n",
       "  <thead>\n",
       "    <tr style=\"text-align: right;\">\n",
       "      <th></th>\n",
       "      <th>pH</th>\n",
       "      <th>EC µS/cm</th>\n",
       "      <th>NTU</th>\n",
       "      <th>Ca mg/l</th>\n",
       "      <th>NH4 mg/l</th>\n",
       "      <th>Cl mg/l</th>\n",
       "      <th>FC (cfu/100ml)</th>\n",
       "      <th>Mg</th>\n",
       "      <th>Na</th>\n",
       "      <th>HCO3</th>\n",
       "      <th>SO4</th>\n",
       "      <th>TDS</th>\n",
       "      <th>CO3</th>\n",
       "    </tr>\n",
       "  </thead>\n",
       "  <tbody>\n",
       "    <tr>\n",
       "      <th>0</th>\n",
       "      <td>-0.676845</td>\n",
       "      <td>1.297445</td>\n",
       "      <td>-0.434709</td>\n",
       "      <td>0.142612</td>\n",
       "      <td>-0.118193</td>\n",
       "      <td>1.012476</td>\n",
       "      <td>0.503475</td>\n",
       "      <td>0.253956</td>\n",
       "      <td>1.215588</td>\n",
       "      <td>1.042703</td>\n",
       "      <td>-0.901658</td>\n",
       "      <td>1.296359</td>\n",
       "      <td>0.0</td>\n",
       "    </tr>\n",
       "    <tr>\n",
       "      <th>1</th>\n",
       "      <td>-1.796037</td>\n",
       "      <td>0.136916</td>\n",
       "      <td>-0.429166</td>\n",
       "      <td>0.037622</td>\n",
       "      <td>-0.118193</td>\n",
       "      <td>0.669425</td>\n",
       "      <td>-0.256260</td>\n",
       "      <td>-0.134135</td>\n",
       "      <td>1.215588</td>\n",
       "      <td>0.942233</td>\n",
       "      <td>-0.999939</td>\n",
       "      <td>0.137602</td>\n",
       "      <td>0.0</td>\n",
       "    </tr>\n",
       "    <tr>\n",
       "      <th>2</th>\n",
       "      <td>-0.740799</td>\n",
       "      <td>-0.297739</td>\n",
       "      <td>-0.170465</td>\n",
       "      <td>-0.035872</td>\n",
       "      <td>-0.118193</td>\n",
       "      <td>0.669425</td>\n",
       "      <td>0.865253</td>\n",
       "      <td>-0.248654</td>\n",
       "      <td>0.920267</td>\n",
       "      <td>0.963743</td>\n",
       "      <td>-0.999939</td>\n",
       "      <td>-0.296931</td>\n",
       "      <td>0.0</td>\n",
       "    </tr>\n",
       "    <tr>\n",
       "      <th>3</th>\n",
       "      <td>2.297009</td>\n",
       "      <td>-0.441175</td>\n",
       "      <td>2.885897</td>\n",
       "      <td>0.037622</td>\n",
       "      <td>-0.118193</td>\n",
       "      <td>1.012476</td>\n",
       "      <td>1.974828</td>\n",
       "      <td>-0.227447</td>\n",
       "      <td>0.920267</td>\n",
       "      <td>1.024634</td>\n",
       "      <td>-0.895516</td>\n",
       "      <td>-0.441776</td>\n",
       "      <td>0.0</td>\n",
       "    </tr>\n",
       "    <tr>\n",
       "      <th>4</th>\n",
       "      <td>1.049909</td>\n",
       "      <td>-0.369457</td>\n",
       "      <td>-0.225901</td>\n",
       "      <td>3.008857</td>\n",
       "      <td>-2.825888</td>\n",
       "      <td>1.441289</td>\n",
       "      <td>-0.208143</td>\n",
       "      <td>0.302733</td>\n",
       "      <td>0.025356</td>\n",
       "      <td>1.114447</td>\n",
       "      <td>-0.797235</td>\n",
       "      <td>-0.369354</td>\n",
       "      <td>0.0</td>\n",
       "    </tr>\n",
       "    <tr>\n",
       "      <th>5</th>\n",
       "      <td>0.922001</td>\n",
       "      <td>0.354244</td>\n",
       "      <td>0.428242</td>\n",
       "      <td>0.625569</td>\n",
       "      <td>-0.118193</td>\n",
       "      <td>1.055357</td>\n",
       "      <td>1.769699</td>\n",
       "      <td>-0.933646</td>\n",
       "      <td>0.320677</td>\n",
       "      <td>0.896981</td>\n",
       "      <td>-0.981511</td>\n",
       "      <td>0.354869</td>\n",
       "      <td>0.0</td>\n",
       "    </tr>\n",
       "    <tr>\n",
       "      <th>6</th>\n",
       "      <td>-0.005329</td>\n",
       "      <td>0.645463</td>\n",
       "      <td>-0.255467</td>\n",
       "      <td>-0.770806</td>\n",
       "      <td>-0.547986</td>\n",
       "      <td>-0.702777</td>\n",
       "      <td>-0.629977</td>\n",
       "      <td>-0.812765</td>\n",
       "      <td>-0.869556</td>\n",
       "      <td>-0.939521</td>\n",
       "      <td>1.321945</td>\n",
       "      <td>0.644558</td>\n",
       "      <td>0.0</td>\n",
       "    </tr>\n",
       "    <tr>\n",
       "      <th>7</th>\n",
       "      <td>-0.261145</td>\n",
       "      <td>-1.940735</td>\n",
       "      <td>0.457808</td>\n",
       "      <td>-0.770806</td>\n",
       "      <td>1.300124</td>\n",
       "      <td>-0.988653</td>\n",
       "      <td>-0.437149</td>\n",
       "      <td>1.617578</td>\n",
       "      <td>-0.269965</td>\n",
       "      <td>-1.044500</td>\n",
       "      <td>0.838731</td>\n",
       "      <td>-1.940917</td>\n",
       "      <td>0.0</td>\n",
       "    </tr>\n",
       "    <tr>\n",
       "      <th>8</th>\n",
       "      <td>-0.037306</td>\n",
       "      <td>-1.549545</td>\n",
       "      <td>-0.139052</td>\n",
       "      <td>-0.665816</td>\n",
       "      <td>0.741393</td>\n",
       "      <td>-0.988653</td>\n",
       "      <td>-1.052172</td>\n",
       "      <td>0.578426</td>\n",
       "      <td>-1.764467</td>\n",
       "      <td>-0.994555</td>\n",
       "      <td>0.835455</td>\n",
       "      <td>-1.549836</td>\n",
       "      <td>0.0</td>\n",
       "    </tr>\n",
       "    <tr>\n",
       "      <th>9</th>\n",
       "      <td>0.026647</td>\n",
       "      <td>1.006227</td>\n",
       "      <td>-0.255467</td>\n",
       "      <td>-0.634319</td>\n",
       "      <td>0.870331</td>\n",
       "      <td>-0.902890</td>\n",
       "      <td>-0.979816</td>\n",
       "      <td>-1.718312</td>\n",
       "      <td>0.624947</td>\n",
       "      <td>-1.119656</td>\n",
       "      <td>1.651595</td>\n",
       "      <td>1.006669</td>\n",
       "      <td>0.0</td>\n",
       "    </tr>\n",
       "    <tr>\n",
       "      <th>10</th>\n",
       "      <td>-0.676845</td>\n",
       "      <td>1.440882</td>\n",
       "      <td>-0.244380</td>\n",
       "      <td>-0.592322</td>\n",
       "      <td>0.311600</td>\n",
       "      <td>-1.088710</td>\n",
       "      <td>-0.798927</td>\n",
       "      <td>1.965376</td>\n",
       "      <td>-0.869556</td>\n",
       "      <td>-0.986958</td>\n",
       "      <td>-0.025321</td>\n",
       "      <td>1.441203</td>\n",
       "      <td>0.0</td>\n",
       "    </tr>\n",
       "    <tr>\n",
       "      <th>11</th>\n",
       "      <td>-0.101260</td>\n",
       "      <td>-0.282526</td>\n",
       "      <td>-1.617340</td>\n",
       "      <td>-0.382341</td>\n",
       "      <td>0.741393</td>\n",
       "      <td>-1.188766</td>\n",
       "      <td>-0.750811</td>\n",
       "      <td>-0.643108</td>\n",
       "      <td>-1.469146</td>\n",
       "      <td>-0.899551</td>\n",
       "      <td>0.953392</td>\n",
       "      <td>-0.282447</td>\n",
       "      <td>0.0</td>\n",
       "    </tr>\n",
       "  </tbody>\n",
       "</table>\n",
       "</div>"
      ],
      "text/plain": [
       "          pH  EC µS/cm       NTU   Ca mg/l  NH4 mg/l   Cl mg/l  \\\n",
       "0  -0.676845  1.297445 -0.434709  0.142612 -0.118193  1.012476   \n",
       "1  -1.796037  0.136916 -0.429166  0.037622 -0.118193  0.669425   \n",
       "2  -0.740799 -0.297739 -0.170465 -0.035872 -0.118193  0.669425   \n",
       "3   2.297009 -0.441175  2.885897  0.037622 -0.118193  1.012476   \n",
       "4   1.049909 -0.369457 -0.225901  3.008857 -2.825888  1.441289   \n",
       "5   0.922001  0.354244  0.428242  0.625569 -0.118193  1.055357   \n",
       "6  -0.005329  0.645463 -0.255467 -0.770806 -0.547986 -0.702777   \n",
       "7  -0.261145 -1.940735  0.457808 -0.770806  1.300124 -0.988653   \n",
       "8  -0.037306 -1.549545 -0.139052 -0.665816  0.741393 -0.988653   \n",
       "9   0.026647  1.006227 -0.255467 -0.634319  0.870331 -0.902890   \n",
       "10 -0.676845  1.440882 -0.244380 -0.592322  0.311600 -1.088710   \n",
       "11 -0.101260 -0.282526 -1.617340 -0.382341  0.741393 -1.188766   \n",
       "\n",
       "    FC (cfu/100ml)        Mg        Na      HCO3       SO4       TDS  CO3  \n",
       "0         0.503475  0.253956  1.215588  1.042703 -0.901658  1.296359  0.0  \n",
       "1        -0.256260 -0.134135  1.215588  0.942233 -0.999939  0.137602  0.0  \n",
       "2         0.865253 -0.248654  0.920267  0.963743 -0.999939 -0.296931  0.0  \n",
       "3         1.974828 -0.227447  0.920267  1.024634 -0.895516 -0.441776  0.0  \n",
       "4        -0.208143  0.302733  0.025356  1.114447 -0.797235 -0.369354  0.0  \n",
       "5         1.769699 -0.933646  0.320677  0.896981 -0.981511  0.354869  0.0  \n",
       "6        -0.629977 -0.812765 -0.869556 -0.939521  1.321945  0.644558  0.0  \n",
       "7        -0.437149  1.617578 -0.269965 -1.044500  0.838731 -1.940917  0.0  \n",
       "8        -1.052172  0.578426 -1.764467 -0.994555  0.835455 -1.549836  0.0  \n",
       "9        -0.979816 -1.718312  0.624947 -1.119656  1.651595  1.006669  0.0  \n",
       "10       -0.798927  1.965376 -0.869556 -0.986958 -0.025321  1.441203  0.0  \n",
       "11       -0.750811 -0.643108 -1.469146 -0.899551  0.953392 -0.282447  0.0  "
      ]
     },
     "execution_count": 12,
     "metadata": {},
     "output_type": "execute_result"
    }
   ],
   "source": [
    "pd.DataFrame(data = x, columns = features)"
   ]
  },
  {
   "cell_type": "code",
   "execution_count": 13,
   "metadata": {},
   "outputs": [],
   "source": [
    "pca = PCA(n_components=6)"
   ]
  },
  {
   "cell_type": "code",
   "execution_count": 14,
   "metadata": {},
   "outputs": [],
   "source": [
    "principalComponents = pca.fit_transform(x)"
   ]
  },
  {
   "cell_type": "code",
   "execution_count": null,
   "metadata": {},
   "outputs": [],
   "source": [
    "principalDf = pd.DataFrame(data = principalComponents\n",
    "             , columns = ['PC1', 'PC2','PC3'])"
   ]
  },
  {
   "cell_type": "code",
   "execution_count": 16,
   "metadata": {},
   "outputs": [
    {
     "data": {
      "text/html": [
       "<div>\n",
       "<style scoped>\n",
       "    .dataframe tbody tr th:only-of-type {\n",
       "        vertical-align: middle;\n",
       "    }\n",
       "\n",
       "    .dataframe tbody tr th {\n",
       "        vertical-align: top;\n",
       "    }\n",
       "\n",
       "    .dataframe thead th {\n",
       "        text-align: right;\n",
       "    }\n",
       "</style>\n",
       "<table border=\"1\" class=\"dataframe\">\n",
       "  <thead>\n",
       "    <tr style=\"text-align: right;\">\n",
       "      <th></th>\n",
       "      <th>Sample Point</th>\n",
       "    </tr>\n",
       "  </thead>\n",
       "  <tbody>\n",
       "    <tr>\n",
       "      <th>0</th>\n",
       "      <td>source</td>\n",
       "    </tr>\n",
       "    <tr>\n",
       "      <th>1</th>\n",
       "      <td>channel (Tankin)</td>\n",
       "    </tr>\n",
       "    <tr>\n",
       "      <th>2</th>\n",
       "      <td>Tankout</td>\n",
       "    </tr>\n",
       "    <tr>\n",
       "      <th>3</th>\n",
       "      <td>hospital</td>\n",
       "    </tr>\n",
       "    <tr>\n",
       "      <th>4</th>\n",
       "      <td>uniCafe</td>\n",
       "    </tr>\n",
       "  </tbody>\n",
       "</table>\n",
       "</div>"
      ],
      "text/plain": [
       "       Sample Point\n",
       "0            source\n",
       "1  channel (Tankin)\n",
       "2           Tankout\n",
       "3          hospital\n",
       "4           uniCafe"
      ]
     },
     "execution_count": 16,
     "metadata": {},
     "output_type": "execute_result"
    }
   ],
   "source": [
    "LData[['Sample Point']].head()"
   ]
  },
  {
   "cell_type": "code",
   "execution_count": 17,
   "metadata": {},
   "outputs": [
    {
     "ename": "NameError",
     "evalue": "name 'principalDf' is not defined",
     "output_type": "error",
     "traceback": [
      "\u001b[1;31m---------------------------------------------------------------------------\u001b[0m",
      "\u001b[1;31mNameError\u001b[0m                                 Traceback (most recent call last)",
      "\u001b[1;32m<ipython-input-17-d0c6413a21df>\u001b[0m in \u001b[0;36m<module>\u001b[1;34m\u001b[0m\n\u001b[1;32m----> 1\u001b[1;33m \u001b[0mfinalDf\u001b[0m \u001b[1;33m=\u001b[0m \u001b[0mpd\u001b[0m\u001b[1;33m.\u001b[0m\u001b[0mconcat\u001b[0m\u001b[1;33m(\u001b[0m\u001b[1;33m[\u001b[0m\u001b[0mprincipalDf\u001b[0m\u001b[1;33m,\u001b[0m \u001b[0mLData\u001b[0m\u001b[1;33m[\u001b[0m\u001b[1;33m[\u001b[0m\u001b[1;34m'Sample Point'\u001b[0m\u001b[1;33m]\u001b[0m\u001b[1;33m]\u001b[0m\u001b[1;33m,\u001b[0m\u001b[0mLData\u001b[0m\u001b[1;33m[\u001b[0m\u001b[1;33m[\u001b[0m\u001b[1;34m'Season'\u001b[0m\u001b[1;33m]\u001b[0m\u001b[1;33m]\u001b[0m\u001b[1;33m,\u001b[0m\u001b[0mLData\u001b[0m\u001b[1;33m[\u001b[0m\u001b[1;33m[\u001b[0m\u001b[1;34m'Use'\u001b[0m\u001b[1;33m]\u001b[0m\u001b[1;33m]\u001b[0m\u001b[1;33m]\u001b[0m\u001b[1;33m,\u001b[0m \u001b[0maxis\u001b[0m \u001b[1;33m=\u001b[0m \u001b[1;36m1\u001b[0m\u001b[1;33m)\u001b[0m\u001b[1;33m\u001b[0m\u001b[1;33m\u001b[0m\u001b[0m\n\u001b[0m\u001b[0;32m      2\u001b[0m \u001b[0mfinalDf\u001b[0m\u001b[1;33m\u001b[0m\u001b[1;33m\u001b[0m\u001b[0m\n",
      "\u001b[1;31mNameError\u001b[0m: name 'principalDf' is not defined"
     ]
    }
   ],
   "source": [
    "finalDf = pd.concat([principalDf, LData[['Sample Point']],LData[['Season']],LData[['Use']]], axis = 1)\n",
    "finalDf"
   ]
  },
  {
   "cell_type": "code",
   "execution_count": 18,
   "metadata": {},
   "outputs": [
    {
     "ename": "NameError",
     "evalue": "name 'finalDf' is not defined",
     "output_type": "error",
     "traceback": [
      "\u001b[1;31m---------------------------------------------------------------------------\u001b[0m",
      "\u001b[1;31mNameError\u001b[0m                                 Traceback (most recent call last)",
      "\u001b[1;32m<ipython-input-18-61b04743a1ac>\u001b[0m in \u001b[0;36m<module>\u001b[1;34m\u001b[0m\n\u001b[0;32m      1\u001b[0m \u001b[1;32mimport\u001b[0m \u001b[0mplotly\u001b[0m\u001b[1;33m.\u001b[0m\u001b[0mexpress\u001b[0m \u001b[1;32mas\u001b[0m \u001b[0mpx\u001b[0m\u001b[1;33m\u001b[0m\u001b[1;33m\u001b[0m\u001b[0m\n\u001b[1;32m----> 2\u001b[1;33m \u001b[0mfig\u001b[0m \u001b[1;33m=\u001b[0m \u001b[0mpx\u001b[0m\u001b[1;33m.\u001b[0m\u001b[0mscatter_3d\u001b[0m\u001b[1;33m(\u001b[0m\u001b[0mfinalDf\u001b[0m\u001b[1;33m,\u001b[0m \u001b[0mx\u001b[0m\u001b[1;33m=\u001b[0m\u001b[1;34m\"PC1\"\u001b[0m\u001b[1;33m,\u001b[0m \u001b[0my\u001b[0m\u001b[1;33m=\u001b[0m\u001b[1;34m\"PC2\"\u001b[0m\u001b[1;33m,\u001b[0m \u001b[0mz\u001b[0m\u001b[1;33m=\u001b[0m\u001b[1;34m\"PC3\"\u001b[0m\u001b[1;33m,\u001b[0m\u001b[0mcolor\u001b[0m\u001b[1;33m=\u001b[0m\u001b[1;34m\"Sample Point\"\u001b[0m\u001b[1;33m,\u001b[0m \u001b[0msymbol\u001b[0m\u001b[1;33m=\u001b[0m\u001b[1;34m\"Season\"\u001b[0m\u001b[1;33m,\u001b[0m \u001b[0mtemplate\u001b[0m\u001b[1;33m=\u001b[0m\u001b[1;34m\"plotly_dark\"\u001b[0m\u001b[1;33m)\u001b[0m\u001b[1;33m\u001b[0m\u001b[1;33m\u001b[0m\u001b[0m\n\u001b[0m\u001b[0;32m      3\u001b[0m \u001b[0mfig\u001b[0m\u001b[1;33m.\u001b[0m\u001b[0mshow\u001b[0m\u001b[1;33m(\u001b[0m\u001b[1;33m)\u001b[0m\u001b[1;33m\u001b[0m\u001b[1;33m\u001b[0m\u001b[0m\n",
      "\u001b[1;31mNameError\u001b[0m: name 'finalDf' is not defined"
     ]
    }
   ],
   "source": [
    "import plotly.express as px\n",
    "fig = px.scatter_3d(finalDf, x=\"PC1\", y=\"PC2\", z=\"PC3\",color=\"Sample Point\", symbol=\"Season\", template=\"plotly_dark\")\n",
    "fig.show()"
   ]
  },
  {
   "cell_type": "code",
   "execution_count": 20,
   "metadata": {},
   "outputs": [],
   "source": [
    "v=pca.explained_variance_ratio_"
   ]
  },
  {
   "cell_type": "code",
   "execution_count": 21,
   "metadata": {},
   "outputs": [
    {
     "data": {
      "text/plain": [
       "array([0.43964162, 0.20365638, 0.13281434, 0.10811864, 0.07029126,\n",
       "       0.02823879])"
      ]
     },
     "execution_count": 21,
     "metadata": {},
     "output_type": "execute_result"
    }
   ],
   "source": [
    "v"
   ]
  },
  {
   "cell_type": "code",
   "execution_count": 22,
   "metadata": {},
   "outputs": [
    {
     "data": {
      "text/plain": [
       "0.9827610277890659"
      ]
     },
     "execution_count": 22,
     "metadata": {},
     "output_type": "execute_result"
    }
   ],
   "source": []
  },
  {
   "cell_type": "markdown",
   "metadata": {},
   "source": [
    "# The fuzzy inference system"
   ]
  },
  {
   "cell_type": "markdown",
   "metadata": {},
   "source": [
    "As described in figure 1 the `fuzzy inference system` has two layers. The first layer aggregates the specific use water quality parameters as `antecedents` to obtain four `consequents` for each water use. These will be aggregated as antecendents on the second layer to obtain the `watershed-scale multiple use water quality index` as the final `consequent`."
   ]
  },
  {
   "cell_type": "code",
   "execution_count": null,
   "metadata": {},
   "outputs": [],
   "source": []
  },
  {
   "cell_type": "code",
   "execution_count": 4,
   "metadata": {},
   "outputs": [],
   "source": [
    "import numpy as np\n",
    "import skfuzzy as fuzz\n",
    "from skfuzzy import control as ctrl\n",
    "# New Antecedent/Consequent objects hold universe variables and membership functions\n",
    "irrigation = ctrl.Antecedent(np.arange(0, 11, 1), 'irrigation')\n",
    "Domestic = ctrl.Antecedent(np.arange(0, 11, 1), 'Domestic')\n",
    "Aquaculture = ctrl.Antecedent(np.arange(0, 11, 1), 'Aquaculture')\n",
    "Ecological = ctrl.Antecedent(np.arange(0, 11, 1), 'Ecological')\n",
    "QualityIndex = ctrl.Consequent(np.arange(0, 26, 1), 'QualityIndex')\n",
    "# Auto-membership function population is possible with .automf(3, 5, or 7)\n",
    "irrigation.automf(3)\n",
    "Domestic.automf(3)\n",
    "Aquaculture.automf(3)\n",
    "Ecological.automf(3)\n",
    "# Custom membership functions can be built interactively with a familiar,\n",
    "# Pythonic API\n",
    "QualityIndex['Bad'] = fuzz.trimf(QualityIndex.universe, [0, 0, 13])\n",
    "QualityIndex['medium'] = fuzz.trimf(QualityIndex.universe, [0, 13, 25])\n",
    "QualityIndex['Good'] = fuzz.trimf(QualityIndex.universe, [13, 25, 25])"
   ]
  },
  {
   "cell_type": "code",
   "execution_count": 5,
   "metadata": {},
   "outputs": [
    {
     "name": "stderr",
     "output_type": "stream",
     "text": [
      "c:\\users\\chimango\\appdata\\local\\programs\\python\\python37\\lib\\site-packages\\skfuzzy\\control\\fuzzyvariable.py:122: UserWarning:\n",
      "\n",
      "Matplotlib is currently using module://ipykernel.pylab.backend_inline, which is a non-GUI backend, so cannot show the figure.\n",
      "\n"
     ]
    },
    {
     "data": {
      "image/png": "[encoded data removed]",
      "text/plain": [
       "<Figure size 432x288 with 1 Axes>"
      ]
     },
     "metadata": {
      "needs_background": "light"
     },
     "output_type": "display_data"
    }
   ],
   "source": [
    "Ecological.view()"
   ]
  },
  {
   "cell_type": "code",
   "execution_count": 4,
   "metadata": {},
   "outputs": [
    {
     "data": {
      "image/png": "[encoded data removed]",
      "text/plain": [
       "<Figure size 432x288 with 1 Axes>"
      ]
     },
     "metadata": {
      "needs_background": "light"
     },
     "output_type": "display_data"
    }
   ],
   "source": [
    "QualityIndex.view()"
   ]
  },
  {
   "cell_type": "code",
   "execution_count": 5,
   "metadata": {},
   "outputs": [],
   "source": [
    "rule1 = ctrl.Rule(irrigation['poor'] | Domestic['poor'] | Ecological['poor'] | Aquaculture['poor'], QualityIndex['Bad'])\n",
    "rule2 = ctrl.Rule(Domestic['average'], QualityIndex['medium']) \n",
    "rule3 = ctrl.Rule(irrigation['good'] | Domestic['good'], QualityIndex['Good'])"
   ]
  },
  {
   "cell_type": "code",
   "execution_count": 8,
   "metadata": {},
   "outputs": [
    {
     "data": {
      "text/plain": [
       "(<Figure size 432x288 with 1 Axes>,\n",
       " <matplotlib.axes._subplots.AxesSubplot at 0x1becb790948>)"
      ]
     },
     "execution_count": 8,
     "metadata": {},
     "output_type": "execute_result"
    },
    {
     "data": {
      "image/png": "[encoded data removed]",
      "text/plain": [
       "<Figure size 432x288 with 1 Axes>"
      ]
     },
     "metadata": {},
     "output_type": "display_data"
    }
   ],
   "source": [
    "rule3.view()"
   ]
  },
  {
   "cell_type": "code",
   "execution_count": 8,
   "metadata": {},
   "outputs": [],
   "source": [
    "WQI_ctrl = ctrl.ControlSystem([rule1, rule2, rule3])"
   ]
  },
  {
   "cell_type": "code",
   "execution_count": 10,
   "metadata": {},
   "outputs": [],
   "source": [
    "WQDex = ctrl.ControlSystemSimulation(WQI_ctrl)"
   ]
  },
  {
   "cell_type": "code",
   "execution_count": 13,
   "metadata": {},
   "outputs": [],
   "source": [
    "WQDex.input['irrigation'] = 6.5 \n",
    "WQDex.input['Domestic'] = 9.8\n",
    "\n",
    "WQDex.compute()"
   ]
  },
  {
   "cell_type": "code",
   "execution_count": 16,
   "metadata": {},
   "outputs": [
    {
     "name": "stdout",
     "output_type": "stream",
     "text": [
      "19.847607361963192\n"
     ]
    },
    {
     "data": {
      "image/png": "[encoded data removed]",
      "text/plain": [
       "<Figure size 432x288 with 1 Axes>"
      ]
     },
     "metadata": {
      "needs_background": "light"
     },
     "output_type": "display_data"
    }
   ],
   "source": [
    "print (WQDex.output['QualityIndex']) \n",
    "QualityIndex.view(sim=WQDex)"
   ]
  },
  {
   "cell_type": "code",
   "execution_count": null,
   "metadata": {},
   "outputs": [],
   "source": []
  }
 ],
 "metadata": {
  "kernelspec": {
   "display_name": "Python 3",
   "language": "python",
   "name": "python3"
  },
  "language_info": {
   "codemirror_mode": {
    "name": "ipython",
    "version": 3
   },
   "file_extension": ".py",
   "mimetype": "text/x-python",
   "name": "python",
   "nbconvert_exporter": "python",
   "pygments_lexer": "ipython3",
   "version": "3.7.4"
  }
 },
 "nbformat": 4,
 "nbformat_minor": 4
}
